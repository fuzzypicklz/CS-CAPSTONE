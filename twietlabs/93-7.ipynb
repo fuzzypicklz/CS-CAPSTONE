{
 "cells": [
  {
   "cell_type": "markdown",
   "id": "f272bb2a",
   "metadata": {},
   "source": [
    "# 9.5"
   ]
  },
  {
   "cell_type": "code",
   "execution_count": 78,
   "id": "cd1a7595",
   "metadata": {},
   "outputs": [],
   "source": [
    "import random\n",
    "import time\n",
    "import asyncio\n",
    "class Person:\n",
    "    def __init__(self, name, next=None):\n",
    "        self.name = name\n",
    "        self.next = next\n",
    "\n",
    "names = [\n",
    "    \"James\", \"Emily\", \"Oliver\", \"Sarah\", \"Michael\", \"Chloe\", \"William\", \"Grace\",\n",
    "    \"Daniel\", \"Hannah\", \"Thomas\", \"Natalie\", \"Ethan\", \"Lauren\", \"Matthew\", \"Jessica\",\n",
    "    \"Henry\", \"Lily\", \"Jack\", \"Amelia\", \"Samuel\", \"Megan\", \"George\", \"Rachel\",\n",
    "    \"Joseph\", \"Olivia\", \"Benjamin\", \"Charlotte\", \"Lucas\", \"Sophie\", \"Nathan\", \"Abigail\",\n",
    "    \"Christopher\", \"Victoria\", \"Isaac\", \"Claire\", \"David\", \"Rebecca\", \"Andrew\", \"Julia\",\n",
    "    \"Jonathan\", \"Anna\", \"Alexander\", \"Madison\", \"Noah\", \"Emma\", \"Jacob\", \"Zoe\",\n",
    "    \"Anthony\", \"Kate\"\n",
    "]\n"
   ]
  },
  {
   "cell_type": "code",
   "execution_count": 79,
   "id": "b3b79812",
   "metadata": {},
   "outputs": [],
   "source": [
    "class Queue:\n",
    "    def __init__(self, head=None):\n",
    "        self.head = head\n",
    "\n",
    "    def append(self, name):\n",
    "        if not self.head:\n",
    "            self.head = Person(name)\n",
    "            return\n",
    "        front = self.head\n",
    "        while front.next:\n",
    "            front = front.next\n",
    "        front.next = Person(name)\n",
    "\n",
    "    def dequeue(self):\n",
    "        if not self.head:\n",
    "            return None\n",
    "        person = self.head\n",
    "        self.head = self.head.next\n",
    "        return person.name\n",
    "\n",
    "    def __repr__(self):\n",
    "        if not self.head:\n",
    "            return \"Queue is empty\"\n",
    "        output = self.head.name\n",
    "        front = self.head\n",
    "        while front.next:\n",
    "            front = front.next\n",
    "            output += \" <- \" + front.name\n",
    "        return output\n",
    "    def getLength(self):\n",
    "        count = 0\n",
    "        current = self.head\n",
    "        while current:\n",
    "            count += 1\n",
    "            current = current.next\n",
    "        return count\n",
    "\n",
    "async def theater_behavior(queue, names, iterations=10):\n",
    "    import random, asyncio\n",
    "    for _ in range(iterations):\n",
    "        action = random.choice(['add', 'remove'])\n",
    "        if action == 'add':\n",
    "            name = random.choice(names)\n",
    "            queue.append(name)\n",
    "            print(f\"joined line: {name} | Queue: {queue}\")\n",
    "        else:\n",
    "            removed = queue.dequeue()\n",
    "            if removed:\n",
    "                print(f\"entered theater: {removed} | Queue: {queue}\")\n",
    "            else:\n",
    "                print(\"Queue is empty, no one to remove.\")\n",
    "        await asyncio.sleep(random.randint(0, 1))"
   ]
  },
  {
   "cell_type": "code",
   "execution_count": 80,
   "id": "e1c1b261",
   "metadata": {},
   "outputs": [
    {
     "name": "stdout",
     "output_type": "stream",
     "text": [
      "Queue is empty, no one to remove.\n",
      "joined line: James | Queue: James\n"
     ]
    },
    {
     "ename": "CancelledError",
     "evalue": "",
     "output_type": "error",
     "traceback": [
      "\u001b[31m---------------------------------------------------------------------------\u001b[39m",
      "\u001b[31mCancelledError\u001b[39m                            Traceback (most recent call last)",
      "\u001b[36mCell\u001b[39m\u001b[36m \u001b[39m\u001b[32mIn[80]\u001b[39m\u001b[32m, line 2\u001b[39m\n\u001b[32m      1\u001b[39m q1 = Queue()\n\u001b[32m----> \u001b[39m\u001b[32m2\u001b[39m \u001b[38;5;28;01mawait\u001b[39;00m theater_behavior(q1, names, iterations=\u001b[32m2\u001b[39m)\n",
      "\u001b[36mCell\u001b[39m\u001b[36m \u001b[39m\u001b[32mIn[79]\u001b[39m\u001b[32m, line 52\u001b[39m, in \u001b[36mtheater_behavior\u001b[39m\u001b[34m(queue, names, iterations)\u001b[39m\n\u001b[32m     50\u001b[39m     \u001b[38;5;28;01melse\u001b[39;00m:\n\u001b[32m     51\u001b[39m         \u001b[38;5;28mprint\u001b[39m(\u001b[33m\"\u001b[39m\u001b[33mQueue is empty, no one to remove.\u001b[39m\u001b[33m\"\u001b[39m)\n\u001b[32m---> \u001b[39m\u001b[32m52\u001b[39m \u001b[38;5;28;01mawait\u001b[39;00m asyncio.sleep(random.randint(\u001b[32m0\u001b[39m, \u001b[32m1\u001b[39m))\n",
      "\u001b[36mFile \u001b[39m\u001b[32m/usr/lib/python3.12/asyncio/tasks.py:665\u001b[39m, in \u001b[36msleep\u001b[39m\u001b[34m(delay, result)\u001b[39m\n\u001b[32m    661\u001b[39m h = loop.call_later(delay,\n\u001b[32m    662\u001b[39m                     futures._set_result_unless_cancelled,\n\u001b[32m    663\u001b[39m                     future, result)\n\u001b[32m    664\u001b[39m \u001b[38;5;28;01mtry\u001b[39;00m:\n\u001b[32m--> \u001b[39m\u001b[32m665\u001b[39m     \u001b[38;5;28;01mreturn\u001b[39;00m \u001b[38;5;28;01mawait\u001b[39;00m future\n\u001b[32m    666\u001b[39m \u001b[38;5;28;01mfinally\u001b[39;00m:\n\u001b[32m    667\u001b[39m     h.cancel()\n",
      "\u001b[31mCancelledError\u001b[39m: "
     ]
    }
   ],
   "source": [
    "q1 = Queue()\n",
    "await theater_behavior(q1, names, iterations=2)"
   ]
  },
  {
   "cell_type": "markdown",
   "id": "56cd9452",
   "metadata": {},
   "source": [
    "# 9.6"
   ]
  },
  {
   "cell_type": "code",
   "execution_count": null,
   "id": "63088599",
   "metadata": {},
   "outputs": [
    {
     "name": "stdout",
     "output_type": "stream",
     "text": [
      "q1: Queue is empty\n",
      "q2: Queue is empty\n",
      "q3: Queue is empty\n",
      "q4: Queue is empty\n",
      "joined line: Chloe | Queue: Chloe\n",
      "q1: Chloe\n",
      "q2: Queue is empty\n",
      "q3: Queue is empty\n",
      "q4: Queue is empty\n",
      "joined line: James | Queue: James\n",
      "q1: Chloe\n",
      "q2: James\n",
      "q3: Queue is empty\n",
      "q4: Queue is empty\n",
      "joined line: Rebecca | Queue: Rebecca\n",
      "q1: Chloe\n",
      "q2: James\n",
      "q3: Rebecca\n",
      "q4: Queue is empty\n",
      "joined line: Alexander | Queue: Alexander\n"
     ]
    },
    {
     "ename": "CancelledError",
     "evalue": "",
     "output_type": "error",
     "traceback": [
      "\u001b[31m---------------------------------------------------------------------------\u001b[39m",
      "\u001b[31mCancelledError\u001b[39m                            Traceback (most recent call last)",
      "\u001b[36mCell\u001b[39m\u001b[36m \u001b[39m\u001b[32mIn[71]\u001b[39m\u001b[32m, line 31\u001b[39m\n\u001b[32m     28\u001b[39m                 \u001b[38;5;28mprint\u001b[39m(\u001b[33mf\u001b[39m\u001b[33m\"\u001b[39m\u001b[33mentered theater: \u001b[39m\u001b[38;5;132;01m{\u001b[39;00mremoved\u001b[38;5;132;01m}\u001b[39;00m\u001b[33m | Queue: \u001b[39m\u001b[38;5;132;01m{\u001b[39;00mqueue\u001b[38;5;132;01m}\u001b[39;00m\u001b[33m\"\u001b[39m)\n\u001b[32m     29\u001b[39m             \u001b[38;5;28;01mawait\u001b[39;00m asyncio.sleep(random.randint(\u001b[32m1\u001b[39m, \u001b[32m2\u001b[39m))  \u001b[38;5;66;03m# Longer wait for remove\u001b[39;00m\n\u001b[32m---> \u001b[39m\u001b[32m31\u001b[39m \u001b[38;5;28;01mawait\u001b[39;00m theater_behavior([q1, q2, q3, q4], names, iterations=\u001b[32m30\u001b[39m)\n",
      "\u001b[36mCell\u001b[39m\u001b[36m \u001b[39m\u001b[32mIn[71]\u001b[39m\u001b[32m, line 24\u001b[39m, in \u001b[36mtheater_behavior\u001b[39m\u001b[34m(queues, names, iterations)\u001b[39m\n\u001b[32m     22\u001b[39m     queue.append(name)\n\u001b[32m     23\u001b[39m     \u001b[38;5;28mprint\u001b[39m(\u001b[33mf\u001b[39m\u001b[33m\"\u001b[39m\u001b[33mjoined line: \u001b[39m\u001b[38;5;132;01m{\u001b[39;00mname\u001b[38;5;132;01m}\u001b[39;00m\u001b[33m | Queue: \u001b[39m\u001b[38;5;132;01m{\u001b[39;00mqueue\u001b[38;5;132;01m}\u001b[39;00m\u001b[33m\"\u001b[39m)\n\u001b[32m---> \u001b[39m\u001b[32m24\u001b[39m     \u001b[38;5;28;01mawait\u001b[39;00m asyncio.sleep(random.randint(\u001b[32m0\u001b[39m, \u001b[32m1\u001b[39m))  \u001b[38;5;66;03m# Shorter wait for add\u001b[39;00m\n\u001b[32m     25\u001b[39m \u001b[38;5;28;01melse\u001b[39;00m:\n\u001b[32m     26\u001b[39m     removed = queue.dequeue()\n",
      "\u001b[36mFile \u001b[39m\u001b[32m/usr/lib/python3.12/asyncio/tasks.py:665\u001b[39m, in \u001b[36msleep\u001b[39m\u001b[34m(delay, result)\u001b[39m\n\u001b[32m    661\u001b[39m h = loop.call_later(delay,\n\u001b[32m    662\u001b[39m                     futures._set_result_unless_cancelled,\n\u001b[32m    663\u001b[39m                     future, result)\n\u001b[32m    664\u001b[39m \u001b[38;5;28;01mtry\u001b[39;00m:\n\u001b[32m--> \u001b[39m\u001b[32m665\u001b[39m     \u001b[38;5;28;01mreturn\u001b[39;00m \u001b[38;5;28;01mawait\u001b[39;00m future\n\u001b[32m    666\u001b[39m \u001b[38;5;28;01mfinally\u001b[39;00m:\n\u001b[32m    667\u001b[39m     h.cancel()\n",
      "\u001b[31mCancelledError\u001b[39m: "
     ]
    }
   ],
   "source": [
    "q1 = Queue()\n",
    "q2 = Queue()\n",
    "q3 = Queue()\n",
    "q4 = Queue()\n",
    "\n",
    "async def theater_behavior(queues, names, iterations=10):\n",
    "    import random, asyncio\n",
    "    for _ in range(iterations):\n",
    "        print(\"q1:\", queues[0])\n",
    "        print(\"q2:\", queues[1])\n",
    "        print(\"q3:\", queues[2])\n",
    "        print(\"q4:\", queues[3])\n",
    "        # Find the queue with the minimum length\n",
    "        min_queue = queues[0]\n",
    "        for queue in queues[1:]:\n",
    "            if queue.getLength() < min_queue.getLength():\n",
    "                min_queue = queue\n",
    "        queue = min_queue\n",
    "        action = random.choice(['add', 'remove'])\n",
    "        if action == 'add':\n",
    "            name = random.choice(names)\n",
    "            queue.append(name)\n",
    "            print(f\"joined line: {name} | Queue: {queue}\")\n",
    "            await asyncio.sleep(random.randint(0, 1))  # Shorter wait for add\n",
    "        else:\n",
    "            removed = queue.dequeue()\n",
    "            if removed:\n",
    "                print(f\"entered theater: {removed} | Queue: {queue}\")\n",
    "            await asyncio.sleep(random.randint(1, 2))  # Longer wait for remove\n",
    "\n",
    "await theater_behavior([q1, q2, q3, q4], names, iterations=30)"
   ]
  },
  {
   "cell_type": "markdown",
   "id": "7860b0e0",
   "metadata": {},
   "source": [
    "# 9.7"
   ]
  },
  {
   "cell_type": "code",
   "execution_count": 81,
   "id": "7d5c7abc",
   "metadata": {},
   "outputs": [],
   "source": [
    "operators = ['+', '-', '*', '/']\n",
    "class Node:\n",
    "    def __init__(self, value):\n",
    "        self.value = value\n",
    "        self.next = None\n",
    "\n",
    "class LinkedList:\n",
    "    def __init__(self, head=None):\n",
    "        self.head = head\n",
    "    def append(self, value):\n",
    "        if not self.head:\n",
    "            self.head = Node(value)\n",
    "            return\n",
    "        front = self.head\n",
    "        while front.next:\n",
    "            front = front.next\n",
    "        front.next = Node(value)\n",
    "    def listToLinkedList(self, lst):\n",
    "        for value in lst:\n",
    "            self.append(value)\n",
    "    def toArithmetic(self):\n",
    "        out = \"\"\n",
    "        front = self.head\n",
    "        while front and front.next and front.next.next:\n",
    "            if front.next not in operators:\n",
    "                twobefore = front.value\n",
    "                before = front.next.value\n",
    "                operator = front.next.next.value\n",
    "                if(front.next.next.next.value in operators): \n",
    "                    operatortwo = front.next.next.next.value\n",
    "                    out += f\"{operatortwo}({twobefore} {operator} {before})\"\n",
    "                    front = front.next.next.next.next\n",
    "                else:\n",
    "                    out += f\"({twobefore} {operator} {before})\"\n",
    "                    front = front.next.next.next\n",
    "\n",
    "        return out"
   ]
  },
  {
   "cell_type": "code",
   "execution_count": 82,
   "id": "41a235e9",
   "metadata": {},
   "outputs": [
    {
     "name": "stdout",
     "output_type": "stream",
     "text": [
      "(3 + 5)/(2 * 7)\n"
     ]
    }
   ],
   "source": [
    "l1 = [\"3\",\"5\", \"+\", \"2\", \"7\",\"*\", \"/\"]\n",
    "\n",
    "ll1 = LinkedList()\n",
    "ll1.listToLinkedList(l1)\n",
    "print(ll1.toArithmetic())"
   ]
  },
  {
   "cell_type": "code",
   "execution_count": null,
   "id": "0780bd4c",
   "metadata": {},
   "outputs": [],
   "source": []
  }
 ],
 "metadata": {
  "kernelspec": {
   "display_name": ".venv",
   "language": "python",
   "name": "python3"
  },
  "language_info": {
   "codemirror_mode": {
    "name": "ipython",
    "version": 3
   },
   "file_extension": ".py",
   "mimetype": "text/x-python",
   "name": "python",
   "nbconvert_exporter": "python",
   "pygments_lexer": "ipython3",
   "version": "3.12.3"
  }
 },
 "nbformat": 4,
 "nbformat_minor": 5
}
