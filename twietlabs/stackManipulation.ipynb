{
 "cells": [
  {
   "cell_type": "code",
   "execution_count": 49,
   "id": "da2b91ff",
   "metadata": {},
   "outputs": [],
   "source": [
    "class Node():\n",
    "    def __init__(self,val,next=None):\n",
    "        self.val=val\n",
    "        self.next=next\n",
    "    def __repr__(self):\n",
    "        return str(self.val)"
   ]
  },
  {
   "cell_type": "code",
   "execution_count": 50,
   "id": "82a0cbd8",
   "metadata": {},
   "outputs": [],
   "source": [
    "class Stack():\n",
    "    def __init__(self,val = None):\n",
    "        self.top=Node(val) if val else None\n",
    "    def push(self,val):\n",
    "        temp = self.top\n",
    "        self.top = Node(val)\n",
    "        self.top.next = temp\n",
    "    def pop(self):\n",
    "        temp = self.top\n",
    "        self.top = self.top.next\n",
    "        return temp\n",
    "    def __repr__(self):\n",
    "        c1 = self.top\n",
    "        out = \"\"\n",
    "        while c1.next:\n",
    "            out += str(c1.val)+\" -> \"\n",
    "            c1=c1.next\n",
    "        out += str(c1.val)\n",
    "        return out"
   ]
  },
  {
   "cell_type": "code",
   "execution_count": 51,
   "id": "0403ee62",
   "metadata": {},
   "outputs": [],
   "source": [
    "def reverseStack(stack):\n",
    "    newStack = Stack()\n",
    "    while stack.top: newStack.push(stack.pop())\n",
    "    return newStack\n",
    "\n",
    "def removeVal(stack, val):\n",
    "    c1 = stack.top\n",
    "    prev = None\n",
    "\n",
    "    while c1:\n",
    "        if c1.val == val:\n",
    "            # Remove the current node\n",
    "            if prev is None:\n",
    "                stack.top = c1.next\n",
    "            else:\n",
    "                prev.next = c1.next\n",
    "            # Move c1 forward, but not prev\n",
    "            c1 = c1.next\n",
    "        else:\n",
    "            # Move both forward when not deleting\n",
    "            prev = c1\n",
    "            c1 = c1.next\n"
   ]
  },
  {
   "cell_type": "code",
   "execution_count": 52,
   "id": "f0e22e94",
   "metadata": {},
   "outputs": [
    {
     "name": "stdout",
     "output_type": "stream",
     "text": [
      "1 -> 1 -> 4 -> 4 -> 4 -> 4 -> 3 -> 2 -> 1\n",
      "1 -> 4 -> 4 -> 4 -> 4 -> 3 -> 2 -> 1\n",
      "1 -> 3 -> 2 -> 1\n",
      "1 -> 2 -> 3 -> 1\n"
     ]
    }
   ],
   "source": [
    "s1 = Stack()\n",
    "s1.push(1)\n",
    "s1.push(2)\n",
    "s1.push(3)\n",
    "s1.push(4)\n",
    "s1.push(4)\n",
    "s1.push(4)\n",
    "s1.push(4)\n",
    "s1.push(1)\n",
    "s1.push(1)\n",
    "\n",
    "\n",
    "print(s1)\n",
    "\n",
    "s1.pop()\n",
    "print(s1)\n",
    "\n",
    "removeVal(s1,4)\n",
    "print(s1)\n",
    "\n",
    "s1 = reverseStack(s1)\n",
    "print(s1)"
   ]
  }
 ],
 "metadata": {
  "kernelspec": {
   "display_name": ".venv",
   "language": "python",
   "name": "python3"
  },
  "language_info": {
   "codemirror_mode": {
    "name": "ipython",
    "version": 3
   },
   "file_extension": ".py",
   "mimetype": "text/x-python",
   "name": "python",
   "nbconvert_exporter": "python",
   "pygments_lexer": "ipython3",
   "version": "3.12.3"
  }
 },
 "nbformat": 4,
 "nbformat_minor": 5
}
